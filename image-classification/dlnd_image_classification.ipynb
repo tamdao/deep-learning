{
 "cells": [
  {
   "cell_type": "markdown",
   "metadata": {
    "collapsed": true
   },
   "source": [
    "# Image Classification\n",
    "In this project, you'll classify images from the [CIFAR-10 dataset](https://www.cs.toronto.edu/~kriz/cifar.html).  The dataset consists of airplanes, dogs, cats, and other objects. You'll preprocess the images, then train a convolutional neural network on all the samples. The images need to be normalized and the labels need to be one-hot encoded.  You'll get to apply what you learned and build a convolutional, max pooling, dropout, and fully connected layers.  At the end, you'll get to see your neural network's predictions on the sample images.\n",
    "## Get the Data\n",
    "Run the following cell to download the [CIFAR-10 dataset for python](https://www.cs.toronto.edu/~kriz/cifar-10-python.tar.gz)."
   ]
  },
  {
   "cell_type": "code",
   "execution_count": 2,
   "metadata": {},
   "outputs": [
    {
     "name": "stdout",
     "output_type": "stream",
     "text": [
      "All files found!\n"
     ]
    }
   ],
   "source": [
    "\"\"\"\n",
    "DON'T MODIFY ANYTHING IN THIS CELL THAT IS BELOW THIS LINE\n",
    "\"\"\"\n",
    "from urllib.request import urlretrieve\n",
    "from os.path import isfile, isdir\n",
    "from tqdm import tqdm\n",
    "import problem_unittests as tests\n",
    "import tarfile\n",
    "\n",
    "cifar10_dataset_folder_path = 'cifar-10-batches-py'\n",
    "\n",
    "# Use Floyd's cifar-10 dataset if present\n",
    "floyd_cifar10_location = '/input/cifar-10/python.tar.gz'\n",
    "if isfile(floyd_cifar10_location):\n",
    "    tar_gz_path = floyd_cifar10_location\n",
    "else:\n",
    "    tar_gz_path = 'cifar-10-python.tar.gz'\n",
    "\n",
    "class DLProgress(tqdm):\n",
    "    last_block = 0\n",
    "\n",
    "    def hook(self, block_num=1, block_size=1, total_size=None):\n",
    "        self.total = total_size\n",
    "        self.update((block_num - self.last_block) * block_size)\n",
    "        self.last_block = block_num\n",
    "\n",
    "if not isfile(tar_gz_path):\n",
    "    with DLProgress(unit='B', unit_scale=True, miniters=1, desc='CIFAR-10 Dataset') as pbar:\n",
    "        urlretrieve(\n",
    "            'https://www.cs.toronto.edu/~kriz/cifar-10-python.tar.gz',\n",
    "            tar_gz_path,\n",
    "            pbar.hook)\n",
    "\n",
    "if not isdir(cifar10_dataset_folder_path):\n",
    "    with tarfile.open(tar_gz_path) as tar:\n",
    "        tar.extractall()\n",
    "        tar.close()\n",
    "\n",
    "\n",
    "tests.test_folder_path(cifar10_dataset_folder_path)"
   ]
  },
  {
   "cell_type": "markdown",
   "metadata": {},
   "source": [
    "## Explore the Data\n",
    "The dataset is broken into batches to prevent your machine from running out of memory.  The CIFAR-10 dataset consists of 5 batches, named `data_batch_1`, `data_batch_2`, etc.. Each batch contains the labels and images that are one of the following:\n",
    "* airplane\n",
    "* automobile\n",
    "* bird\n",
    "* cat\n",
    "* deer\n",
    "* dog\n",
    "* frog\n",
    "* horse\n",
    "* ship\n",
    "* truck\n",
    "\n",
    "Understanding a dataset is part of making predictions on the data.  Play around with the code cell below by changing the `batch_id` and `sample_id`. The `batch_id` is the id for a batch (1-5). The `sample_id` is the id for a image and label pair in the batch.\n",
    "\n",
    "Ask yourself \"What are all possible labels?\", \"What is the range of values for the image data?\", \"Are the labels in order or random?\".  Answers to questions like these will help you preprocess the data and end up with better predictions."
   ]
  },
  {
   "cell_type": "code",
   "execution_count": 3,
   "metadata": {},
   "outputs": [
    {
     "name": "stdout",
     "output_type": "stream",
     "text": [
      "\n",
      "Stats of batch 1:\n",
      "Samples: 10000\n",
      "Label Counts: {0: 1005, 1: 974, 2: 1032, 3: 1016, 4: 999, 5: 937, 6: 1030, 7: 1001, 8: 1025, 9: 981}\n",
      "First 20 Labels: [6, 9, 9, 4, 1, 1, 2, 7, 8, 3, 4, 7, 7, 2, 9, 9, 9, 3, 2, 6]\n",
      "\n",
      "Example of Image 5:\n",
      "Image - Min Value: 0 Max Value: 252\n",
      "Image - Shape: (32, 32, 3)\n",
      "Label - Label Id: 1 Name: automobile\n"
     ]
    },
    {
     "data": {
      "image/png": "[encoded data removed]",
      "text/plain": [
       "<matplotlib.figure.Figure at 0x1109e64e0>"
      ]
     },
     "metadata": {
      "image/png": {
       "height": 250,
       "width": 253
      }
     },
     "output_type": "display_data"
    }
   ],
   "source": [
    "%matplotlib inline\n",
    "%config InlineBackend.figure_format = 'retina'\n",
    "\n",
    "import helper\n",
    "import numpy as np\n",
    "\n",
    "# Explore the dataset\n",
    "batch_id = 1\n",
    "sample_id = 5\n",
    "helper.display_stats(cifar10_dataset_folder_path, batch_id, sample_id)"
   ]
  },
  {
   "cell_type": "markdown",
   "metadata": {},
   "source": [
    "## Implement Preprocess Functions\n",
    "### Normalize\n",
    "In the cell below, implement the `normalize` function to take in image data, `x`, and return it as a normalized Numpy array. The values should be in the range of 0 to 1, inclusive.  The return object should be the same shape as `x`."
   ]
  },
  {
   "cell_type": "code",
   "execution_count": 6,
   "metadata": {},
   "outputs": [
    {
     "name": "stdout",
     "output_type": "stream",
     "text": [
      "Tests Passed\n"
     ]
    }
   ],
   "source": [
    "def normalize(x):\n",
    "    \"\"\"\n",
    "    Normalize a list of sample image data in the range of 0 to 1\n",
    "    : x: List of image data.  The image shape is (32, 32, 3)\n",
    "    : return: Numpy array of normalize data\n",
    "    \"\"\"\n",
    "    # TODO: Implement Function\n",
    "    return x.astype(np.float32, copy=False)/255\n",
    "\n",
    "\n",
    "\"\"\"\n",
    "DON'T MODIFY ANYTHING IN THIS CELL THAT IS BELOW THIS LINE\n",
    "\"\"\"\n",
    "tests.test_normalize(normalize)"
   ]
  },
  {
   "cell_type": "markdown",
   "metadata": {},
   "source": [
    "### One-hot encode\n",
    "Just like the previous code cell, you'll be implementing a function for preprocessing.  This time, you'll implement the `one_hot_encode` function. The input, `x`, are a list of labels.  Implement the function to return the list of labels as One-Hot encoded Numpy array.  The possible values for labels are 0 to 9. The one-hot encoding function should return the same encoding for each value between each call to `one_hot_encode`.  Make sure to save the map of encodings outside the function.\n",
    "\n",
    "Hint: Don't reinvent the wheel."
   ]
  },
  {
   "cell_type": "code",
   "execution_count": 12,
   "metadata": {},
   "outputs": [
    {
     "name": "stdout",
     "output_type": "stream",
     "text": [
      "Tests Passed\n"
     ]
    }
   ],
   "source": [
    "from sklearn import preprocessing;\n",
    "def one_hot_encode(x):\n",
    "    \"\"\"\n",
    "    One hot encode a list of sample labels. Return a one-hot encoded vector for each label.\n",
    "    : x: List of sample Labels\n",
    "    : return: Numpy array of one-hot encoded labels\n",
    "    \"\"\"\n",
    "    # TODO: Implement Function\n",
    "    one_hot = preprocessing.LabelBinarizer();\n",
    "    one_hot.fit(range(0,10));\n",
    "    return one_hot.transform(x);\n",
    "\n",
    "\n",
    "\"\"\"\n",
    "DON'T MODIFY ANYTHING IN THIS CELL THAT IS BELOW THIS LINE\n",
    "\"\"\"\n",
    "tests.test_one_hot_encode(one_hot_encode)"
   ]
  },
  {
   "cell_type": "markdown",
   "metadata": {},
   "source": [
    "### Randomize Data\n",
    "As you saw from exploring the data above, the order of the samples are randomized.  It doesn't hurt to randomize it again, but you don't need to for this dataset."
   ]
  },
  {
   "cell_type": "markdown",
   "metadata": {},
   "source": [
    "## Preprocess all the data and save it\n",
    "Running the code cell below will preprocess all the CIFAR-10 data and save it to file. The code below also uses 10% of the training data for validation."
   ]
  },
  {
   "cell_type": "code",
   "execution_count": 13,
   "metadata": {
    "collapsed": true
   },
   "outputs": [],
   "source": [
    "\"\"\"\n",
    "DON'T MODIFY ANYTHING IN THIS CELL\n",
    "\"\"\"\n",
    "# Preprocess Training, Validation, and Testing Data\n",
    "helper.preprocess_and_save_data(cifar10_dataset_folder_path, normalize, one_hot_encode)"
   ]
  },
  {
   "cell_type": "markdown",
   "metadata": {},
   "source": [
    "# Check Point\n",
    "This is your first checkpoint.  If you ever decide to come back to this notebook or have to restart the notebook, you can start from here.  The preprocessed data has been saved to disk."
   ]
  },
  {
   "cell_type": "code",
   "execution_count": 14,
   "metadata": {
    "collapsed": true
   },
   "outputs": [],
   "source": [
    "\"\"\"\n",
    "DON'T MODIFY ANYTHING IN THIS CELL\n",
    "\"\"\"\n",
    "import pickle\n",
    "import problem_unittests as tests\n",
    "import helper\n",
    "\n",
    "# Load the Preprocessed Validation data\n",
    "valid_features, valid_labels = pickle.load(open('preprocess_validation.p', mode='rb'))"
   ]
  },
  {
   "cell_type": "markdown",
   "metadata": {},
   "source": [
    "## Build the network\n",
    "For the neural network, you'll build each layer into a function.  Most of the code you've seen has been outside of functions. To test your code more thoroughly, we require that you put each layer in a function.  This allows us to give you better feedback and test for simple mistakes using our unittests before you submit your project.\n",
    "\n",
    ">**Note:** If you're finding it hard to dedicate enough time for this course each week, we've provided a small shortcut to this part of the project. In the next couple of problems, you'll have the option to use classes from the [TensorFlow Layers](https://www.tensorflow.org/api_docs/python/tf/layers) or [TensorFlow Layers (contrib)](https://www.tensorflow.org/api_guides/python/contrib.layers) packages to build each layer, except the layers you build in the \"Convolutional and Max Pooling Layer\" section.  TF Layers is similar to Keras's and TFLearn's abstraction to layers, so it's easy to pickup.\n",
    "\n",
    ">However, if you would like to get the most out of this course, try to solve all the problems _without_ using anything from the TF Layers packages. You **can** still use classes from other packages that happen to have the same name as ones you find in TF Layers! For example, instead of using the TF Layers version of the `conv2d` class, [tf.layers.conv2d](https://www.tensorflow.org/api_docs/python/tf/layers/conv2d), you would want to use the TF Neural Network version of `conv2d`, [tf.nn.conv2d](https://www.tensorflow.org/api_docs/python/tf/nn/conv2d). \n",
    "\n",
    "Let's begin!\n",
    "\n",
    "### Input\n",
    "The neural network needs to read the image data, one-hot encoded labels, and dropout keep probability. Implement the following functions\n",
    "* Implement `neural_net_image_input`\n",
    " * Return a [TF Placeholder](https://www.tensorflow.org/api_docs/python/tf/placeholder)\n",
    " * Set the shape using `image_shape` with batch size set to `None`.\n",
    " * Name the TensorFlow placeholder \"x\" using the TensorFlow `name` parameter in the [TF Placeholder](https://www.tensorflow.org/api_docs/python/tf/placeholder).\n",
    "* Implement `neural_net_label_input`\n",
    " * Return a [TF Placeholder](https://www.tensorflow.org/api_docs/python/tf/placeholder)\n",
    " * Set the shape using `n_classes` with batch size set to `None`.\n",
    " * Name the TensorFlow placeholder \"y\" using the TensorFlow `name` parameter in the [TF Placeholder](https://www.tensorflow.org/api_docs/python/tf/placeholder).\n",
    "* Implement `neural_net_keep_prob_input`\n",
    " * Return a [TF Placeholder](https://www.tensorflow.org/api_docs/python/tf/placeholder) for dropout keep probability.\n",
    " * Name the TensorFlow placeholder \"keep_prob\" using the TensorFlow `name` parameter in the [TF Placeholder](https://www.tensorflow.org/api_docs/python/tf/placeholder).\n",
    "\n",
    "These names will be used at the end of the project to load your saved model.\n",
    "\n",
    "Note: `None` for shapes in TensorFlow allow for a dynamic size."
   ]
  },
  {
   "cell_type": "code",
   "execution_count": 50,
   "metadata": {},
   "outputs": [
    {
     "name": "stdout",
     "output_type": "stream",
     "text": [
      "Image Input Tests Passed.\n",
      "Label Input Tests Passed.\n",
      "Keep Prob Tests Passed.\n"
     ]
    }
   ],
   "source": [
    "import tensorflow as tf\n",
    "\n",
    "def neural_net_image_input(image_shape):\n",
    "    \"\"\"\n",
    "    Return a Tensor for a batch of image input\n",
    "    : image_shape: Shape of the images\n",
    "    : return: Tensor for image input.\n",
    "    \"\"\"\n",
    "    # TODO: Implement Function\n",
    "    return tf.placeholder(np.float32, [None, image_shape[0], image_shape[1], image_shape[2]], \"x\");\n",
    "\n",
    "\n",
    "def neural_net_label_input(n_classes):\n",
    "    \"\"\"\n",
    "    Return a Tensor for a batch of label input\n",
    "    : n_classes: Number of classes\n",
    "    : return: Tensor for label input.\n",
    "    \"\"\"\n",
    "    # TODO: Implement Function\n",
    "    return tf.placeholder(np.float32, [None, n_classes], \"y\");\n",
    "\n",
    "\n",
    "def neural_net_keep_prob_input():\n",
    "    \"\"\"\n",
    "    Return a Tensor for keep probability\n",
    "    : return: Tensor for keep probability.\n",
    "    \"\"\"\n",
    "    # TODO: Implement Function\n",
    "    return tf.placeholder(np.float32, None, \"keep_prob\");\n",
    "\n",
    "\n",
    "\"\"\"\n",
    "DON'T MODIFY ANYTHING IN THIS CELL THAT IS BELOW THIS LINE\n",
    "\"\"\"\n",
    "tf.reset_default_graph()\n",
    "tests.test_nn_image_inputs(neural_net_image_input)\n",
    "tests.test_nn_label_inputs(neural_net_label_input)\n",
    "tests.test_nn_keep_prob_inputs(neural_net_keep_prob_input)"
   ]
  },
  {
   "cell_type": "markdown",
   "metadata": {},
   "source": [
    "### Convolution and Max Pooling Layer\n",
    "Convolution layers have a lot of success with images. For this code cell, you should implement the function `conv2d_maxpool` to apply convolution then max pooling:\n",
    "* Create the weight and bias using `conv_ksize`, `conv_num_outputs` and the shape of `x_tensor`.\n",
    "* Apply a convolution to `x_tensor` using weight and `conv_strides`.\n",
    " * We recommend you use same padding, but you're welcome to use any padding.\n",
    "* Add bias\n",
    "* Add a nonlinear activation to the convolution.\n",
    "* Apply Max Pooling using `pool_ksize` and `pool_strides`.\n",
    " * We recommend you use same padding, but you're welcome to use any padding.\n",
    "\n",
    "**Note:** You **can't** use [TensorFlow Layers](https://www.tensorflow.org/api_docs/python/tf/layers) or [TensorFlow Layers (contrib)](https://www.tensorflow.org/api_guides/python/contrib.layers) for **this** layer, but you can still use TensorFlow's [Neural Network](https://www.tensorflow.org/api_docs/python/tf/nn) package. You may still use the shortcut option for all the **other** layers."
   ]
  },
  {
   "cell_type": "code",
   "execution_count": 71,
   "metadata": {},
   "outputs": [
    {
     "name": "stdout",
     "output_type": "stream",
     "text": [
      "Tests Passed\n"
     ]
    }
   ],
   "source": [
    "def conv2d_maxpool(x_tensor, conv_num_outputs, conv_ksize, conv_strides, pool_ksize, pool_strides):\n",
    "    \"\"\"\n",
    "    Apply convolution then max pooling to x_tensor\n",
    "    :param x_tensor: TensorFlow Tensor\n",
    "    :param conv_num_outputs: Number of outputs for the convolutional layer\n",
    "    :param conv_ksize: kernal size 2-D Tuple for the convolutional layer\n",
    "    :param conv_strides: Stride 2-D Tuple for convolution\n",
    "    :param pool_ksize: kernal size 2-D Tuple for pool\n",
    "    :param pool_strides: Stride 2-D Tuple for pool\n",
    "    : return: A tensor that represents convolution and max pooling of x_tensor\n",
    "    \"\"\"\n",
    "    # TODO: Implement Function\n",
    "    input_depth = x_tensor.get_shape().as_list()[3];\n",
    "    output_depth = conv_num_outputs;\n",
    "    \n",
    "    cs = [1, conv_strides[0], conv_strides[1], 1];\n",
    "    ps = [1, pool_strides[0], pool_strides[1], 1];\n",
    "    pks = [1, pool_ksize[0], pool_ksize[1], 1];\n",
    "    \n",
    "    x_filter = tf.Variable(tf.random_normal([conv_ksize[0], conv_ksize[1], input_depth, output_depth]));\n",
    "    x_bias = tf.Variable(tf.random_normal([conv_num_outputs]));\n",
    "    \n",
    "    convolution = tf.nn.conv2d(x_tensor, x_filter, cs, 'SAME') + x_bias;\n",
    "    convolution = tf.contrib.layers.batch_norm(convolution, center=True, scale=True);\n",
    "    convolution = tf.nn.elu(convolution);\n",
    "    \n",
    "    return tf.nn.max_pool(convolution, pks, ps, 'SAME');\n",
    "\n",
    "\"\"\"\n",
    "DON'T MODIFY ANYTHING IN THIS CELL THAT IS BELOW THIS LINE\n",
    "\"\"\"\n",
    "tests.test_con_pool(conv2d_maxpool)"
   ]
  },
  {
   "cell_type": "markdown",
   "metadata": {},
   "source": [
    "### Flatten Layer\n",
    "Implement the `flatten` function to change the dimension of `x_tensor` from a 4-D tensor to a 2-D tensor.  The output should be the shape (*Batch Size*, *Flattened Image Size*). Shortcut option: you can use classes from the [TensorFlow Layers](https://www.tensorflow.org/api_docs/python/tf/layers) or [TensorFlow Layers (contrib)](https://www.tensorflow.org/api_guides/python/contrib.layers) packages for this layer. For more of a challenge, only use other TensorFlow packages."
   ]
  },
  {
   "cell_type": "code",
   "execution_count": 74,
   "metadata": {},
   "outputs": [
    {
     "name": "stdout",
     "output_type": "stream",
     "text": [
      "Tests Passed\n"
     ]
    }
   ],
   "source": [
    "def flatten(x_tensor):\n",
    "    \"\"\"\n",
    "    Flatten x_tensor to (Batch Size, Flattened Image Size)\n",
    "    : x_tensor: A tensor of size (Batch Size, ...), where ... are the image dimensions.\n",
    "    : return: A tensor of size (Batch Size, Flattened Image Size).\n",
    "    \"\"\"\n",
    "    # TODO: Implement Function\n",
    "    return tf.contrib.layers.flatten(x_tensor);\n",
    "\n",
    "\n",
    "\"\"\"\n",
    "DON'T MODIFY ANYTHING IN THIS CELL THAT IS BELOW THIS LINE\n",
    "\"\"\"\n",
    "tests.test_flatten(flatten)"
   ]
  },
  {
   "cell_type": "markdown",
   "metadata": {},
   "source": [
    "### Fully-Connected Layer\n",
    "Implement the `fully_conn` function to apply a fully connected layer to `x_tensor` with the shape (*Batch Size*, *num_outputs*). Shortcut option: you can use classes from the [TensorFlow Layers](https://www.tensorflow.org/api_docs/python/tf/layers) or [TensorFlow Layers (contrib)](https://www.tensorflow.org/api_guides/python/contrib.layers) packages for this layer. For more of a challenge, only use other TensorFlow packages."
   ]
  },
  {
   "cell_type": "code",
   "execution_count": 75,
   "metadata": {},
   "outputs": [
    {
     "name": "stdout",
     "output_type": "stream",
     "text": [
      "Tests Passed\n"
     ]
    }
   ],
   "source": [
    "def fully_conn(x_tensor, num_outputs):\n",
    "    \"\"\"\n",
    "    Apply a fully connected layer to x_tensor using weight and bias\n",
    "    : x_tensor: A 2-D tensor where the first dimension is batch size.\n",
    "    : num_outputs: The number of output that the new tensor should be.\n",
    "    : return: A 2-D tensor where the second dimension is num_outputs.\n",
    "    \"\"\"\n",
    "    # TODO: Implement Function\n",
    "    return tf.contrib.layers.fully_connected(x_tensor, num_outputs);\n",
    "\n",
    "\n",
    "\"\"\"\n",
    "DON'T MODIFY ANYTHING IN THIS CELL THAT IS BELOW THIS LINE\n",
    "\"\"\"\n",
    "tests.test_fully_conn(fully_conn)"
   ]
  },
  {
   "cell_type": "markdown",
   "metadata": {},
   "source": [
    "### Output Layer\n",
    "Implement the `output` function to apply a fully connected layer to `x_tensor` with the shape (*Batch Size*, *num_outputs*). Shortcut option: you can use classes from the [TensorFlow Layers](https://www.tensorflow.org/api_docs/python/tf/layers) or [TensorFlow Layers (contrib)](https://www.tensorflow.org/api_guides/python/contrib.layers) packages for this layer. For more of a challenge, only use other TensorFlow packages.\n",
    "\n",
    "**Note:** Activation, softmax, or cross entropy should **not** be applied to this."
   ]
  },
  {
   "cell_type": "code",
   "execution_count": 77,
   "metadata": {},
   "outputs": [
    {
     "name": "stdout",
     "output_type": "stream",
     "text": [
      "Tests Passed\n"
     ]
    }
   ],
   "source": [
    "def output(x_tensor, num_outputs):\n",
    "    \"\"\"\n",
    "    Apply a output layer to x_tensor using weight and bias\n",
    "    : x_tensor: A 2-D tensor where the first dimension is batch size.\n",
    "    : num_outputs: The number of output that the new tensor should be.\n",
    "    : return: A 2-D tensor where the second dimension is num_outputs.\n",
    "    \"\"\"\n",
    "    # TODO: Implement Function\n",
    "    return tf.contrib.layers.fully_connected(x_tensor, num_outputs, None);\n",
    "\n",
    "\n",
    "\"\"\"\n",
    "DON'T MODIFY ANYTHING IN THIS CELL THAT IS BELOW THIS LINE\n",
    "\"\"\"\n",
    "tests.test_output(output)"
   ]
  },
  {
   "cell_type": "markdown",
   "metadata": {},
   "source": [
    "### Create Convolutional Model\n",
    "Implement the function `conv_net` to create a convolutional neural network model. The function takes in a batch of images, `x`, and outputs logits.  Use the layers you created above to create this model:\n",
    "\n",
    "* Apply 1, 2, or 3 Convolution and Max Pool layers\n",
    "* Apply a Flatten Layer\n",
    "* Apply 1, 2, or 3 Fully Connected Layers\n",
    "* Apply an Output Layer\n",
    "* Return the output\n",
    "* Apply [TensorFlow's Dropout](https://www.tensorflow.org/api_docs/python/tf/nn/dropout) to one or more layers in the model using `keep_prob`. "
   ]
  },
  {
   "cell_type": "code",
   "execution_count": 78,
   "metadata": {},
   "outputs": [
    {
     "name": "stdout",
     "output_type": "stream",
     "text": [
      "Neural Network Built!\n"
     ]
    }
   ],
   "source": [
    "def conv_net(x, keep_prob):\n",
    "    \"\"\"\n",
    "    Create a convolutional neural network model\n",
    "    : x: Placeholder tensor that holds image data.\n",
    "    : keep_prob: Placeholder tensor that hold dropout keep probability.\n",
    "    : return: Tensor that represents logits\n",
    "    \"\"\"\n",
    "    # TODO: Apply 1, 2, or 3 Convolution and Max Pool layers\n",
    "    #    Play around with different number of outputs, kernel size and stride\n",
    "    # Function Definition from Above:\n",
    "    #    conv2d_maxpool(x_tensor, conv_num_outputs, conv_ksize, conv_strides, pool_ksize, pool_strides)\n",
    "    co = 64;\n",
    "    cks = (4, 4);\n",
    "    cs = (1, 1);\n",
    "    pks = (4, 4);\n",
    "    ps = (2, 2);\n",
    "    \n",
    "    conv = conv2d_maxpool(x, co, cks, cs, pks, ps);\n",
    "\n",
    "    # TODO: Apply a Flatten Layer\n",
    "    # Function Definition from Above:\n",
    "    #   flatten(x_tensor)\n",
    "    flattened = flatten(conv);\n",
    "\n",
    "    # TODO: Apply 1, 2, or 3 Fully Connected Layers\n",
    "    #    Play around with different number of outputs\n",
    "    # Function Definition from Above:\n",
    "    #   fully_conn(x_tensor, num_outputs)\n",
    "    fullied_conn = fully_conn(flattened, 1024);\n",
    "    \n",
    "    # TODO: Apply an Output Layer\n",
    "    #    Set this to the number of classes\n",
    "    # Function Definition from Above:\n",
    "    #   output(x_tensor, num_outputs)\n",
    "    \n",
    "    \n",
    "    # TODO: return output\n",
    "    return output(fullied_conn, 10);\n",
    "\n",
    "\n",
    "\"\"\"\n",
    "DON'T MODIFY ANYTHING IN THIS CELL THAT IS BELOW THIS LINE\n",
    "\"\"\"\n",
    "\n",
    "##############################\n",
    "## Build the Neural Network ##\n",
    "##############################\n",
    "\n",
    "# Remove previous weights, bias, inputs, etc..\n",
    "tf.reset_default_graph()\n",
    "\n",
    "# Inputs\n",
    "x = neural_net_image_input((32, 32, 3))\n",
    "y = neural_net_label_input(10)\n",
    "keep_prob = neural_net_keep_prob_input()\n",
    "\n",
    "# Model\n",
    "logits = conv_net(x, keep_prob)\n",
    "\n",
    "# Name logits Tensor, so that is can be loaded from disk after training\n",
    "logits = tf.identity(logits, name='logits')\n",
    "\n",
    "# Loss and Optimizer\n",
    "cost = tf.reduce_mean(tf.nn.softmax_cross_entropy_with_logits(logits=logits, labels=y))\n",
    "optimizer = tf.train.AdamOptimizer().minimize(cost)\n",
    "\n",
    "# Accuracy\n",
    "correct_pred = tf.equal(tf.argmax(logits, 1), tf.argmax(y, 1))\n",
    "accuracy = tf.reduce_mean(tf.cast(correct_pred, tf.float32), name='accuracy')\n",
    "\n",
    "tests.test_conv_net(conv_net)"
   ]
  },
  {
   "cell_type": "markdown",
   "metadata": {},
   "source": [
    "## Train the Neural Network\n",
    "### Single Optimization\n",
    "Implement the function `train_neural_network` to do a single optimization.  The optimization should use `optimizer` to optimize in `session` with a `feed_dict` of the following:\n",
    "* `x` for image input\n",
    "* `y` for labels\n",
    "* `keep_prob` for keep probability for dropout\n",
    "\n",
    "This function will be called for each batch, so `tf.global_variables_initializer()` has already been called.\n",
    "\n",
    "Note: Nothing needs to be returned. This function is only optimizing the neural network."
   ]
  },
  {
   "cell_type": "code",
   "execution_count": 82,
   "metadata": {},
   "outputs": [
    {
     "name": "stdout",
     "output_type": "stream",
     "text": [
      "Tests Passed\n"
     ]
    }
   ],
   "source": [
    "def train_neural_network(session, optimizer, keep_probability, feature_batch, label_batch):\n",
    "    \"\"\"\n",
    "    Optimize the session on a batch of images and labels\n",
    "    : session: Current TensorFlow session\n",
    "    : optimizer: TensorFlow optimizer function\n",
    "    : keep_probability: keep probability\n",
    "    : feature_batch: Batch of Numpy image data\n",
    "    : label_batch: Batch of Numpy label data\n",
    "    \"\"\"\n",
    "    # TODO: Implement Function\n",
    "    return session.run(optimizer, {x: feature_batch, y: label_batch, keep_prob: keep_probability});\n",
    "\n",
    "\n",
    "\"\"\"\n",
    "DON'T MODIFY ANYTHING IN THIS CELL THAT IS BELOW THIS LINE\n",
    "\"\"\"\n",
    "tests.test_train_nn(train_neural_network)"
   ]
  },
  {
   "cell_type": "markdown",
   "metadata": {},
   "source": [
    "### Show Stats\n",
    "Implement the function `print_stats` to print loss and validation accuracy.  Use the global variables `valid_features` and `valid_labels` to calculate validation accuracy.  Use a keep probability of `1.0` to calculate the loss and validation accuracy."
   ]
  },
  {
   "cell_type": "code",
   "execution_count": 83,
   "metadata": {
    "collapsed": true
   },
   "outputs": [],
   "source": [
    "def print_stats(session, feature_batch, label_batch, cost, accuracy):\n",
    "    \"\"\"\n",
    "    Print information about loss and validation accuracy\n",
    "    : session: Current TensorFlow session\n",
    "    : feature_batch: Batch of Numpy image data\n",
    "    : label_batch: Batch of Numpy label data\n",
    "    : cost: TensorFlow cost function\n",
    "    : accuracy: TensorFlow accuracy function\n",
    "    \"\"\"\n",
    "    # TODO: Implement Function\n",
    "    loss = session.run(cost, {x: feature_batch, y: label_batch, keep_prob: 1.0});\n",
    "    valid_accuracy = session.run(accuracy, {x: valid_features, y: valid_labels, keep_prob: 1.0});\n",
    "    print('Loss {} - Validation Accuracy: {}'.format(loss, valid_accuracy));\n",
    "    return float('{}'.format(valid_accuracy));"
   ]
  },
  {
   "cell_type": "markdown",
   "metadata": {},
   "source": [
    "### Hyperparameters\n",
    "Tune the following parameters:\n",
    "* Set `epochs` to the number of iterations until the network stops learning or start overfitting\n",
    "* Set `batch_size` to the highest number that your machine has memory for.  Most people set them to common sizes of memory:\n",
    " * 64\n",
    " * 128\n",
    " * 256\n",
    " * ...\n",
    "* Set `keep_probability` to the probability of keeping a node using dropout"
   ]
  },
  {
   "cell_type": "code",
   "execution_count": 84,
   "metadata": {
    "collapsed": true
   },
   "outputs": [],
   "source": [
    "# TODO: Tune Parameters\n",
    "epochs = 40\n",
    "batch_size = 128\n",
    "keep_probability = 0.7"
   ]
  },
  {
   "cell_type": "markdown",
   "metadata": {},
   "source": [
    "### Train on a Single CIFAR-10 Batch\n",
    "Instead of training the neural network on all the CIFAR-10 batches of data, let's use a single batch. This should save time while you iterate on the model to get a better accuracy.  Once the final validation accuracy is 50% or greater, run the model on all the data in the next section."
   ]
  },
  {
   "cell_type": "code",
   "execution_count": 87,
   "metadata": {},
   "outputs": [
    {
     "name": "stdout",
     "output_type": "stream",
     "text": [
      "Checking the Training on a Single Batch...\n",
      "Epoch  1, CIFAR-10 Batch 1:  Loss 1.9314243793487549 - Validation Accuracy: 0.4081999957561493\n",
      "Epoch  2, CIFAR-10 Batch 1:  Loss 1.6534309387207031 - Validation Accuracy: 0.45579999685287476\n",
      "Epoch  3, CIFAR-10 Batch 1:  Loss 1.3814140558242798 - Validation Accuracy: 0.48660001158714294\n",
      "Epoch  4, CIFAR-10 Batch 1:  Loss 1.1998913288116455 - Validation Accuracy: 0.4968000054359436\n",
      "Epoch  5, CIFAR-10 Batch 1:  Loss 1.0488626956939697 - Validation Accuracy: 0.5080000162124634\n",
      "Epoch  6, CIFAR-10 Batch 1:  Loss 0.9150373339653015 - Validation Accuracy: 0.5281999707221985\n",
      "Epoch  7, CIFAR-10 Batch 1:  Loss 0.812188446521759 - Validation Accuracy: 0.5321999788284302\n",
      "Epoch  8, CIFAR-10 Batch 1:  Loss 0.7277456521987915 - Validation Accuracy: 0.5389999747276306\n",
      "Epoch  9, CIFAR-10 Batch 1:  Loss 0.6208141446113586 - Validation Accuracy: 0.5437999963760376\n",
      "Epoch 10, CIFAR-10 Batch 1:  Loss 0.5378725528717041 - Validation Accuracy: 0.5473999977111816\n",
      "Epoch 11, CIFAR-10 Batch 1:  Loss 0.5194762945175171 - Validation Accuracy: 0.5418000221252441\n",
      "Epoch 12, CIFAR-10 Batch 1:  Loss 0.4499875605106354 - Validation Accuracy: 0.5455999970436096\n",
      "Epoch 13, CIFAR-10 Batch 1:  Loss 0.41310253739356995 - Validation Accuracy: 0.5526000261306763\n",
      "Epoch 14, CIFAR-10 Batch 1:  Loss 0.35704636573791504 - Validation Accuracy: 0.5565999746322632\n",
      "Epoch 15, CIFAR-10 Batch 1:  Loss 0.326725572347641 - Validation Accuracy: 0.5565999746322632\n",
      "Epoch 16, CIFAR-10 Batch 1:  Loss 0.2985924184322357 - Validation Accuracy: 0.5496000051498413\n",
      "Epoch 17, CIFAR-10 Batch 1:  Loss 0.2571467161178589 - Validation Accuracy: 0.5526000261306763\n",
      "Epoch 18, CIFAR-10 Batch 1:  Loss 0.24771729111671448 - Validation Accuracy: 0.5515999794006348\n",
      "Epoch 19, CIFAR-10 Batch 1:  Loss 0.21679046750068665 - Validation Accuracy: 0.5375999808311462\n",
      "Epoch 20, CIFAR-10 Batch 1:  Loss 0.18346866965293884 - Validation Accuracy: 0.5555999875068665\n",
      "Epoch 21, CIFAR-10 Batch 1:  Loss 0.2129685878753662 - Validation Accuracy: 0.5595999956130981\n",
      "Epoch 22, CIFAR-10 Batch 1:  Loss 0.2037474364042282 - Validation Accuracy: 0.5410000085830688\n",
      "Epoch 23, CIFAR-10 Batch 1:  Loss 0.23162806034088135 - Validation Accuracy: 0.5436000227928162\n",
      "Epoch 24, CIFAR-10 Batch 1:  Loss 0.2355717420578003 - Validation Accuracy: 0.5004000067710876\n",
      "Epoch 25, CIFAR-10 Batch 1:  Loss 0.21453824639320374 - Validation Accuracy: 0.5353999733924866\n",
      "Epoch 26, CIFAR-10 Batch 1:  Loss 0.21842029690742493 - Validation Accuracy: 0.5167999863624573\n",
      "Epoch 27, CIFAR-10 Batch 1:  Loss 0.16294725239276886 - Validation Accuracy: 0.5224000215530396\n",
      "Epoch 28, CIFAR-10 Batch 1:  Loss 0.14991946518421173 - Validation Accuracy: 0.5307999849319458\n",
      "Epoch 29, CIFAR-10 Batch 1:  Loss 0.11693036556243896 - Validation Accuracy: 0.5371999740600586\n",
      "Epoch 30, CIFAR-10 Batch 1:  Loss 0.21296460926532745 - Validation Accuracy: 0.5041999816894531\n",
      "Epoch 31, CIFAR-10 Batch 1:  Loss 0.059349529445171356 - Validation Accuracy: 0.5468000173568726\n",
      "Epoch 32, CIFAR-10 Batch 1:  Loss 0.07511106878519058 - Validation Accuracy: 0.5242000222206116\n",
      "Epoch 33, CIFAR-10 Batch 1:  Loss 0.057486020028591156 - Validation Accuracy: 0.5266000032424927\n",
      "Epoch 34, CIFAR-10 Batch 1:  Loss 0.06884104013442993 - Validation Accuracy: 0.5248000025749207\n",
      "Epoch 35, CIFAR-10 Batch 1:  Loss 0.05471528694033623 - Validation Accuracy: 0.5388000011444092\n",
      "Epoch 36, CIFAR-10 Batch 1:  Loss 0.06315543502569199 - Validation Accuracy: 0.5299999713897705\n",
      "Epoch 37, CIFAR-10 Batch 1:  Loss 0.05375245213508606 - Validation Accuracy: 0.5375999808311462\n",
      "Epoch 38, CIFAR-10 Batch 1:  Loss 0.07570557296276093 - Validation Accuracy: 0.5356000065803528\n",
      "Epoch 39, CIFAR-10 Batch 1:  Loss 0.04269957169890404 - Validation Accuracy: 0.553600013256073\n",
      "Epoch 40, CIFAR-10 Batch 1:  Loss 0.041112810373306274 - Validation Accuracy: 0.5601999759674072\n"
     ]
    }
   ],
   "source": [
    "\"\"\"\n",
    "DON'T MODIFY ANYTHING IN THIS CELL\n",
    "\"\"\"\n",
    "print('Checking the Training on a Single Batch...')\n",
    "with tf.Session() as sess:\n",
    "    # Initializing the variables\n",
    "    sess.run(tf.global_variables_initializer())\n",
    "    \n",
    "    # Training cycle\n",
    "    for epoch in range(epochs):\n",
    "        batch_i = 1\n",
    "        for batch_features, batch_labels in helper.load_preprocess_training_batch(batch_i, batch_size):\n",
    "            train_neural_network(sess, optimizer, keep_probability, batch_features, batch_labels)\n",
    "        print('Epoch {:>2}, CIFAR-10 Batch {}:  '.format(epoch + 1, batch_i), end='')\n",
    "        print_stats(sess, batch_features, batch_labels, cost, accuracy)"
   ]
  },
  {
   "cell_type": "markdown",
   "metadata": {},
   "source": [
    "### Fully Train the Model\n",
    "Now that you got a good accuracy with a single CIFAR-10 batch, try it with all five batches."
   ]
  },
  {
   "cell_type": "code",
   "execution_count": 88,
   "metadata": {},
   "outputs": [
    {
     "name": "stdout",
     "output_type": "stream",
     "text": [
      "Training...\n",
      "Epoch  1, CIFAR-10 Batch 1:  Loss 1.723109483718872 - Validation Accuracy: 0.42739999294281006\n",
      "Epoch  1, CIFAR-10 Batch 2:  Loss 1.3847323656082153 - Validation Accuracy: 0.48179998993873596\n",
      "Epoch  1, CIFAR-10 Batch 3:  Loss 1.2686140537261963 - Validation Accuracy: 0.4927999973297119\n",
      "Epoch  1, CIFAR-10 Batch 4:  Loss 1.222773551940918 - Validation Accuracy: 0.5212000012397766\n",
      "Epoch  1, CIFAR-10 Batch 5:  Loss 1.2833707332611084 - Validation Accuracy: 0.5447999835014343\n",
      "Epoch  2, CIFAR-10 Batch 1:  Loss 1.3661344051361084 - Validation Accuracy: 0.5673999786376953\n",
      "Epoch  2, CIFAR-10 Batch 2:  Loss 1.1101877689361572 - Validation Accuracy: 0.5612000226974487\n",
      "Epoch  2, CIFAR-10 Batch 3:  Loss 0.9548839330673218 - Validation Accuracy: 0.5663999915122986\n",
      "Epoch  2, CIFAR-10 Batch 4:  Loss 0.9835320711135864 - Validation Accuracy: 0.5734000205993652\n",
      "Epoch  2, CIFAR-10 Batch 5:  Loss 0.9983161687850952 - Validation Accuracy: 0.5860000252723694\n",
      "Epoch  3, CIFAR-10 Batch 1:  Loss 1.0486481189727783 - Validation Accuracy: 0.5924000144004822\n",
      "Epoch  3, CIFAR-10 Batch 2:  Loss 0.905785858631134 - Validation Accuracy: 0.5929999947547913\n",
      "Epoch  3, CIFAR-10 Batch 3:  Loss 0.7828603386878967 - Validation Accuracy: 0.607200026512146\n",
      "Epoch  3, CIFAR-10 Batch 4:  Loss 0.7732369899749756 - Validation Accuracy: 0.6074000000953674\n",
      "Epoch  3, CIFAR-10 Batch 5:  Loss 0.8407598733901978 - Validation Accuracy: 0.6092000007629395\n",
      "Epoch  4, CIFAR-10 Batch 1:  Loss 0.8478845357894897 - Validation Accuracy: 0.623199999332428\n",
      "Epoch  4, CIFAR-10 Batch 2:  Loss 0.8174457550048828 - Validation Accuracy: 0.616599977016449\n",
      "Epoch  4, CIFAR-10 Batch 3:  Loss 0.6563735604286194 - Validation Accuracy: 0.6273999810218811\n",
      "Epoch  4, CIFAR-10 Batch 4:  Loss 0.6737890243530273 - Validation Accuracy: 0.626800000667572\n",
      "Epoch  4, CIFAR-10 Batch 5:  Loss 0.7303608655929565 - Validation Accuracy: 0.6262000203132629\n",
      "Epoch  5, CIFAR-10 Batch 1:  Loss 0.7758459448814392 - Validation Accuracy: 0.6251999735832214\n",
      "Epoch  5, CIFAR-10 Batch 2:  Loss 0.687656581401825 - Validation Accuracy: 0.6169999837875366\n",
      "Epoch  5, CIFAR-10 Batch 3:  Loss 0.5401555299758911 - Validation Accuracy: 0.6295999884605408\n",
      "Epoch  5, CIFAR-10 Batch 4:  Loss 0.5733672976493835 - Validation Accuracy: 0.6320000290870667\n",
      "Epoch  5, CIFAR-10 Batch 5:  Loss 0.5869418382644653 - Validation Accuracy: 0.6327999830245972\n",
      "Epoch  6, CIFAR-10 Batch 1:  Loss 0.6622681617736816 - Validation Accuracy: 0.6313999891281128\n",
      "Epoch  6, CIFAR-10 Batch 2:  Loss 0.5870546102523804 - Validation Accuracy: 0.635200023651123\n",
      "Epoch  6, CIFAR-10 Batch 3:  Loss 0.47720471024513245 - Validation Accuracy: 0.6141999959945679\n",
      "Epoch  6, CIFAR-10 Batch 4:  Loss 0.5755830407142639 - Validation Accuracy: 0.6389999985694885\n",
      "Epoch  6, CIFAR-10 Batch 5:  Loss 0.531505286693573 - Validation Accuracy: 0.6376000046730042\n",
      "Epoch  7, CIFAR-10 Batch 1:  Loss 0.5424057245254517 - Validation Accuracy: 0.6348000168800354\n",
      "Epoch  7, CIFAR-10 Batch 2:  Loss 0.5399245023727417 - Validation Accuracy: 0.6353999972343445\n",
      "Epoch  7, CIFAR-10 Batch 3:  Loss 0.4676592946052551 - Validation Accuracy: 0.614799976348877\n",
      "Epoch  7, CIFAR-10 Batch 4:  Loss 0.47669291496276855 - Validation Accuracy: 0.6394000053405762\n",
      "Epoch  7, CIFAR-10 Batch 5:  Loss 0.4644196033477783 - Validation Accuracy: 0.6380000114440918\n",
      "Epoch  8, CIFAR-10 Batch 1:  Loss 0.47602176666259766 - Validation Accuracy: 0.635200023651123\n",
      "Epoch  8, CIFAR-10 Batch 2:  Loss 0.5174378156661987 - Validation Accuracy: 0.6236000061035156\n",
      "Epoch  8, CIFAR-10 Batch 3:  Loss 0.40729713439941406 - Validation Accuracy: 0.6302000284194946\n",
      "Epoch  8, CIFAR-10 Batch 4:  Loss 0.4085727632045746 - Validation Accuracy: 0.635200023651123\n",
      "Epoch  8, CIFAR-10 Batch 5:  Loss 0.4108216166496277 - Validation Accuracy: 0.6565999984741211\n",
      "Epoch  9, CIFAR-10 Batch 1:  Loss 0.4167865812778473 - Validation Accuracy: 0.6313999891281128\n",
      "Epoch  9, CIFAR-10 Batch 2:  Loss 0.41009521484375 - Validation Accuracy: 0.6349999904632568\n",
      "Epoch  9, CIFAR-10 Batch 3:  Loss 0.3774620592594147 - Validation Accuracy: 0.631600022315979\n",
      "Epoch  9, CIFAR-10 Batch 4:  Loss 0.38335442543029785 - Validation Accuracy: 0.645799994468689\n",
      "Epoch  9, CIFAR-10 Batch 5:  Loss 0.3978741765022278 - Validation Accuracy: 0.6539999842643738\n",
      "Epoch 10, CIFAR-10 Batch 1:  Loss 0.3723921477794647 - Validation Accuracy: 0.6241999864578247\n",
      "Epoch 10, CIFAR-10 Batch 2:  Loss 0.3025082051753998 - Validation Accuracy: 0.6371999979019165\n",
      "Epoch 10, CIFAR-10 Batch 3:  Loss 0.3660815358161926 - Validation Accuracy: 0.6240000128746033\n",
      "Epoch 10, CIFAR-10 Batch 4:  Loss 0.31327763199806213 - Validation Accuracy: 0.6481999754905701\n",
      "Epoch 10, CIFAR-10 Batch 5:  Loss 0.36291027069091797 - Validation Accuracy: 0.6492000222206116\n",
      "Epoch 11, CIFAR-10 Batch 1:  Loss 0.3303844928741455 - Validation Accuracy: 0.6259999871253967\n",
      "Epoch 11, CIFAR-10 Batch 2:  Loss 0.279280424118042 - Validation Accuracy: 0.6340000033378601\n",
      "Epoch 11, CIFAR-10 Batch 3:  Loss 0.3373710513114929 - Validation Accuracy: 0.623199999332428\n",
      "Epoch 11, CIFAR-10 Batch 4:  Loss 0.30804282426834106 - Validation Accuracy: 0.640999972820282\n",
      "Epoch 11, CIFAR-10 Batch 5:  Loss 0.34351569414138794 - Validation Accuracy: 0.6349999904632568\n",
      "Epoch 12, CIFAR-10 Batch 1:  Loss 0.3050451874732971 - Validation Accuracy: 0.6413999795913696\n",
      "Epoch 12, CIFAR-10 Batch 2:  Loss 0.2515152394771576 - Validation Accuracy: 0.6345999836921692\n",
      "Epoch 12, CIFAR-10 Batch 3:  Loss 0.3169790804386139 - Validation Accuracy: 0.6478000283241272\n",
      "Epoch 12, CIFAR-10 Batch 4:  Loss 0.26952043175697327 - Validation Accuracy: 0.644599974155426\n",
      "Epoch 12, CIFAR-10 Batch 5:  Loss 0.333017498254776 - Validation Accuracy: 0.6394000053405762\n",
      "Epoch 13, CIFAR-10 Batch 1:  Loss 0.28239384293556213 - Validation Accuracy: 0.6417999863624573\n",
      "Epoch 13, CIFAR-10 Batch 2:  Loss 0.18994756042957306 - Validation Accuracy: 0.650600016117096\n",
      "Epoch 13, CIFAR-10 Batch 3:  Loss 0.2637968063354492 - Validation Accuracy: 0.6510000228881836\n",
      "Epoch 13, CIFAR-10 Batch 4:  Loss 0.30456623435020447 - Validation Accuracy: 0.656000018119812\n",
      "Epoch 13, CIFAR-10 Batch 5:  Loss 0.25728291273117065 - Validation Accuracy: 0.6438000202178955\n",
      "Epoch 14, CIFAR-10 Batch 1:  Loss 0.2581426203250885 - Validation Accuracy: 0.6553999781608582\n",
      "Epoch 14, CIFAR-10 Batch 2:  Loss 0.16420839726924896 - Validation Accuracy: 0.646399974822998\n",
      "Epoch 14, CIFAR-10 Batch 3:  Loss 0.24169015884399414 - Validation Accuracy: 0.6452000141143799\n",
      "Epoch 14, CIFAR-10 Batch 4:  Loss 0.2622157037258148 - Validation Accuracy: 0.6593999862670898\n",
      "Epoch 14, CIFAR-10 Batch 5:  Loss 0.25434279441833496 - Validation Accuracy: 0.6439999938011169\n",
      "Epoch 15, CIFAR-10 Batch 1:  Loss 0.24549655616283417 - Validation Accuracy: 0.6620000004768372\n",
      "Epoch 15, CIFAR-10 Batch 2:  Loss 0.16067002713680267 - Validation Accuracy: 0.6471999883651733\n",
      "Epoch 15, CIFAR-10 Batch 3:  Loss 0.19508275389671326 - Validation Accuracy: 0.6525999903678894\n",
      "Epoch 15, CIFAR-10 Batch 4:  Loss 0.23598265647888184 - Validation Accuracy: 0.6636000275611877\n",
      "Epoch 15, CIFAR-10 Batch 5:  Loss 0.21870091557502747 - Validation Accuracy: 0.652400016784668\n",
      "Epoch 16, CIFAR-10 Batch 1:  Loss 0.21835258603096008 - Validation Accuracy: 0.650600016117096\n",
      "Epoch 16, CIFAR-10 Batch 2:  Loss 0.14343392848968506 - Validation Accuracy: 0.6510000228881836\n",
      "Epoch 16, CIFAR-10 Batch 3:  Loss 0.13658921420574188 - Validation Accuracy: 0.6643999814987183\n",
      "Epoch 16, CIFAR-10 Batch 4:  Loss 0.21817722916603088 - Validation Accuracy: 0.6510000228881836\n",
      "Epoch 16, CIFAR-10 Batch 5:  Loss 0.19249172508716583 - Validation Accuracy: 0.6525999903678894\n",
      "Epoch 17, CIFAR-10 Batch 1:  Loss 0.17597784101963043 - Validation Accuracy: 0.6567999720573425\n",
      "Epoch 17, CIFAR-10 Batch 2:  Loss 0.11961890757083893 - Validation Accuracy: 0.6499999761581421\n",
      "Epoch 17, CIFAR-10 Batch 3:  Loss 0.11988506466150284 - Validation Accuracy: 0.6690000295639038\n",
      "Epoch 17, CIFAR-10 Batch 4:  Loss 0.19123366475105286 - Validation Accuracy: 0.650600016117096\n",
      "Epoch 17, CIFAR-10 Batch 5:  Loss 0.19034187495708466 - Validation Accuracy: 0.6417999863624573\n",
      "Epoch 18, CIFAR-10 Batch 1:  Loss 0.17325755953788757 - Validation Accuracy: 0.649399995803833\n"
     ]
    },
    {
     "name": "stdout",
     "output_type": "stream",
     "text": [
      "Epoch 18, CIFAR-10 Batch 2:  Loss 0.11437089741230011 - Validation Accuracy: 0.65420001745224\n",
      "Epoch 18, CIFAR-10 Batch 3:  Loss 0.1268378496170044 - Validation Accuracy: 0.6607999801635742\n",
      "Epoch 18, CIFAR-10 Batch 4:  Loss 0.211203932762146 - Validation Accuracy: 0.626800000667572\n",
      "Epoch 18, CIFAR-10 Batch 5:  Loss 0.17912140488624573 - Validation Accuracy: 0.6403999924659729\n",
      "Epoch 19, CIFAR-10 Batch 1:  Loss 0.16827896237373352 - Validation Accuracy: 0.6557999849319458\n",
      "Epoch 19, CIFAR-10 Batch 2:  Loss 0.107937291264534 - Validation Accuracy: 0.6625999808311462\n",
      "Epoch 19, CIFAR-10 Batch 3:  Loss 0.11390908807516098 - Validation Accuracy: 0.6657999753952026\n",
      "Epoch 19, CIFAR-10 Batch 4:  Loss 0.2108878344297409 - Validation Accuracy: 0.6223999857902527\n",
      "Epoch 19, CIFAR-10 Batch 5:  Loss 0.1293565183877945 - Validation Accuracy: 0.6552000045776367\n",
      "Epoch 20, CIFAR-10 Batch 1:  Loss 0.1341104656457901 - Validation Accuracy: 0.6565999984741211\n",
      "Epoch 20, CIFAR-10 Batch 2:  Loss 0.0758284479379654 - Validation Accuracy: 0.6632000207901001\n",
      "Epoch 20, CIFAR-10 Batch 3:  Loss 0.08718738704919815 - Validation Accuracy: 0.6736000180244446\n",
      "Epoch 20, CIFAR-10 Batch 4:  Loss 0.16419197618961334 - Validation Accuracy: 0.6154000163078308\n",
      "Epoch 20, CIFAR-10 Batch 5:  Loss 0.10570154339075089 - Validation Accuracy: 0.65420001745224\n",
      "Epoch 21, CIFAR-10 Batch 1:  Loss 0.10722026973962784 - Validation Accuracy: 0.6380000114440918\n",
      "Epoch 21, CIFAR-10 Batch 2:  Loss 0.09469594806432724 - Validation Accuracy: 0.6549999713897705\n",
      "Epoch 21, CIFAR-10 Batch 3:  Loss 0.0940990149974823 - Validation Accuracy: 0.6642000079154968\n",
      "Epoch 21, CIFAR-10 Batch 4:  Loss 0.11010662466287613 - Validation Accuracy: 0.6262000203132629\n",
      "Epoch 21, CIFAR-10 Batch 5:  Loss 0.1101810485124588 - Validation Accuracy: 0.6349999904632568\n",
      "Epoch 22, CIFAR-10 Batch 1:  Loss 0.08474896103143692 - Validation Accuracy: 0.6449999809265137\n",
      "Epoch 22, CIFAR-10 Batch 2:  Loss 0.08292386680841446 - Validation Accuracy: 0.6381999850273132\n",
      "Epoch 22, CIFAR-10 Batch 3:  Loss 0.0873647928237915 - Validation Accuracy: 0.6723999977111816\n",
      "Epoch 22, CIFAR-10 Batch 4:  Loss 0.07973206043243408 - Validation Accuracy: 0.6241999864578247\n",
      "Epoch 22, CIFAR-10 Batch 5:  Loss 0.10743141174316406 - Validation Accuracy: 0.6474000215530396\n",
      "Epoch 23, CIFAR-10 Batch 1:  Loss 0.08339589089155197 - Validation Accuracy: 0.6510000228881836\n",
      "Epoch 23, CIFAR-10 Batch 2:  Loss 0.07082663476467133 - Validation Accuracy: 0.6561999917030334\n",
      "Epoch 23, CIFAR-10 Batch 3:  Loss 0.08117648959159851 - Validation Accuracy: 0.673799991607666\n",
      "Epoch 23, CIFAR-10 Batch 4:  Loss 0.07518783956766129 - Validation Accuracy: 0.6266000270843506\n",
      "Epoch 23, CIFAR-10 Batch 5:  Loss 0.08497531712055206 - Validation Accuracy: 0.647599995136261\n",
      "Epoch 24, CIFAR-10 Batch 1:  Loss 0.08180083334445953 - Validation Accuracy: 0.6520000100135803\n",
      "Epoch 24, CIFAR-10 Batch 2:  Loss 0.04697217792272568 - Validation Accuracy: 0.6638000011444092\n",
      "Epoch 24, CIFAR-10 Batch 3:  Loss 0.08777152001857758 - Validation Accuracy: 0.6657999753952026\n",
      "Epoch 24, CIFAR-10 Batch 4:  Loss 0.07429631054401398 - Validation Accuracy: 0.6204000115394592\n",
      "Epoch 24, CIFAR-10 Batch 5:  Loss 0.05873650312423706 - Validation Accuracy: 0.6517999768257141\n",
      "Epoch 25, CIFAR-10 Batch 1:  Loss 0.0862991064786911 - Validation Accuracy: 0.6575999855995178\n",
      "Epoch 25, CIFAR-10 Batch 2:  Loss 0.03841529041528702 - Validation Accuracy: 0.6697999835014343\n",
      "Epoch 25, CIFAR-10 Batch 3:  Loss 0.08269466459751129 - Validation Accuracy: 0.6492000222206116\n",
      "Epoch 25, CIFAR-10 Batch 4:  Loss 0.08529525250196457 - Validation Accuracy: 0.6359999775886536\n",
      "Epoch 25, CIFAR-10 Batch 5:  Loss 0.07050617784261703 - Validation Accuracy: 0.6373999714851379\n",
      "Epoch 26, CIFAR-10 Batch 1:  Loss 0.05444958060979843 - Validation Accuracy: 0.6582000255584717\n",
      "Epoch 26, CIFAR-10 Batch 2:  Loss 0.037678271532058716 - Validation Accuracy: 0.6628000140190125\n",
      "Epoch 26, CIFAR-10 Batch 3:  Loss 0.05969672277569771 - Validation Accuracy: 0.657800018787384\n",
      "Epoch 26, CIFAR-10 Batch 4:  Loss 0.05905721336603165 - Validation Accuracy: 0.6384000182151794\n",
      "Epoch 26, CIFAR-10 Batch 5:  Loss 0.06599493324756622 - Validation Accuracy: 0.647599995136261\n",
      "Epoch 27, CIFAR-10 Batch 1:  Loss 0.07793828845024109 - Validation Accuracy: 0.6489999890327454\n",
      "Epoch 27, CIFAR-10 Batch 2:  Loss 0.03714727610349655 - Validation Accuracy: 0.6528000235557556\n",
      "Epoch 27, CIFAR-10 Batch 3:  Loss 0.05303934961557388 - Validation Accuracy: 0.6654000282287598\n",
      "Epoch 27, CIFAR-10 Batch 4:  Loss 0.08990327268838882 - Validation Accuracy: 0.6452000141143799\n",
      "Epoch 27, CIFAR-10 Batch 5:  Loss 0.05512823909521103 - Validation Accuracy: 0.6547999978065491\n",
      "Epoch 28, CIFAR-10 Batch 1:  Loss 0.07224170863628387 - Validation Accuracy: 0.6485999822616577\n",
      "Epoch 28, CIFAR-10 Batch 2:  Loss 0.03055366314947605 - Validation Accuracy: 0.6474000215530396\n",
      "Epoch 28, CIFAR-10 Batch 3:  Loss 0.06421896815299988 - Validation Accuracy: 0.6564000248908997\n",
      "Epoch 28, CIFAR-10 Batch 4:  Loss 0.08117081969976425 - Validation Accuracy: 0.6434000134468079\n",
      "Epoch 28, CIFAR-10 Batch 5:  Loss 0.04825395345687866 - Validation Accuracy: 0.659600019454956\n",
      "Epoch 29, CIFAR-10 Batch 1:  Loss 0.07295839488506317 - Validation Accuracy: 0.6565999984741211\n",
      "Epoch 29, CIFAR-10 Batch 2:  Loss 0.0378822460770607 - Validation Accuracy: 0.6435999870300293\n",
      "Epoch 29, CIFAR-10 Batch 3:  Loss 0.05168109014630318 - Validation Accuracy: 0.6430000066757202\n",
      "Epoch 29, CIFAR-10 Batch 4:  Loss 0.05873875692486763 - Validation Accuracy: 0.63919997215271\n",
      "Epoch 29, CIFAR-10 Batch 5:  Loss 0.03071952797472477 - Validation Accuracy: 0.6585999727249146\n",
      "Epoch 30, CIFAR-10 Batch 1:  Loss 0.04195117950439453 - Validation Accuracy: 0.6636000275611877\n",
      "Epoch 30, CIFAR-10 Batch 2:  Loss 0.03486311435699463 - Validation Accuracy: 0.6478000283241272\n",
      "Epoch 30, CIFAR-10 Batch 3:  Loss 0.04355934262275696 - Validation Accuracy: 0.6389999985694885\n",
      "Epoch 30, CIFAR-10 Batch 4:  Loss 0.05535377189517021 - Validation Accuracy: 0.6309999823570251\n",
      "Epoch 30, CIFAR-10 Batch 5:  Loss 0.0322246178984642 - Validation Accuracy: 0.6567999720573425\n",
      "Epoch 31, CIFAR-10 Batch 1:  Loss 0.03750801086425781 - Validation Accuracy: 0.6624000072479248\n",
      "Epoch 31, CIFAR-10 Batch 2:  Loss 0.0364728607237339 - Validation Accuracy: 0.6481999754905701\n",
      "Epoch 31, CIFAR-10 Batch 3:  Loss 0.04801110178232193 - Validation Accuracy: 0.6448000073432922\n",
      "Epoch 31, CIFAR-10 Batch 4:  Loss 0.040228474885225296 - Validation Accuracy: 0.6266000270843506\n",
      "Epoch 31, CIFAR-10 Batch 5:  Loss 0.01993267796933651 - Validation Accuracy: 0.6647999882698059\n",
      "Epoch 32, CIFAR-10 Batch 1:  Loss 0.02237636223435402 - Validation Accuracy: 0.6620000004768372\n",
      "Epoch 32, CIFAR-10 Batch 2:  Loss 0.028045088052749634 - Validation Accuracy: 0.649399995803833\n",
      "Epoch 32, CIFAR-10 Batch 3:  Loss 0.042410947382450104 - Validation Accuracy: 0.6417999863624573\n",
      "Epoch 32, CIFAR-10 Batch 4:  Loss 0.057128965854644775 - Validation Accuracy: 0.6244000196456909\n",
      "Epoch 32, CIFAR-10 Batch 5:  Loss 0.023387107998132706 - Validation Accuracy: 0.6592000126838684\n",
      "Epoch 33, CIFAR-10 Batch 1:  Loss 0.01846153289079666 - Validation Accuracy: 0.6556000113487244\n",
      "Epoch 33, CIFAR-10 Batch 2:  Loss 0.024369899183511734 - Validation Accuracy: 0.6503999829292297\n",
      "Epoch 33, CIFAR-10 Batch 3:  Loss 0.036483217030763626 - Validation Accuracy: 0.6531999707221985\n",
      "Epoch 33, CIFAR-10 Batch 4:  Loss 0.03495750576257706 - Validation Accuracy: 0.6341999769210815\n",
      "Epoch 33, CIFAR-10 Batch 5:  Loss 0.021491345018148422 - Validation Accuracy: 0.6567999720573425\n",
      "Epoch 34, CIFAR-10 Batch 1:  Loss 0.012837964110076427 - Validation Accuracy: 0.6525999903678894\n",
      "Epoch 34, CIFAR-10 Batch 2:  Loss 0.01709158532321453 - Validation Accuracy: 0.6539999842643738\n",
      "Epoch 34, CIFAR-10 Batch 3:  Loss 0.023274119943380356 - Validation Accuracy: 0.6579999923706055\n",
      "Epoch 34, CIFAR-10 Batch 4:  Loss 0.038294218480587006 - Validation Accuracy: 0.6514000296592712\n",
      "Epoch 34, CIFAR-10 Batch 5:  Loss 0.022815730422735214 - Validation Accuracy: 0.6607999801635742\n",
      "Epoch 35, CIFAR-10 Batch 1:  Loss 0.007842836901545525 - Validation Accuracy: 0.6484000086784363\n",
      "Epoch 35, CIFAR-10 Batch 2:  Loss 0.016790274530649185 - Validation Accuracy: 0.6514000296592712\n"
     ]
    },
    {
     "name": "stdout",
     "output_type": "stream",
     "text": [
      "Epoch 35, CIFAR-10 Batch 3:  Loss 0.01932930201292038 - Validation Accuracy: 0.6601999998092651\n",
      "Epoch 35, CIFAR-10 Batch 4:  Loss 0.023053329437971115 - Validation Accuracy: 0.6492000222206116\n",
      "Epoch 35, CIFAR-10 Batch 5:  Loss 0.019341254606842995 - Validation Accuracy: 0.6565999984741211\n",
      "Epoch 36, CIFAR-10 Batch 1:  Loss 0.016352739185094833 - Validation Accuracy: 0.6531999707221985\n",
      "Epoch 36, CIFAR-10 Batch 2:  Loss 0.009655041620135307 - Validation Accuracy: 0.6453999876976013\n",
      "Epoch 36, CIFAR-10 Batch 3:  Loss 0.028598297387361526 - Validation Accuracy: 0.6710000038146973\n",
      "Epoch 36, CIFAR-10 Batch 4:  Loss 0.024102775380015373 - Validation Accuracy: 0.6579999923706055\n",
      "Epoch 36, CIFAR-10 Batch 5:  Loss 0.01649218425154686 - Validation Accuracy: 0.6520000100135803\n",
      "Epoch 37, CIFAR-10 Batch 1:  Loss 0.01433285791426897 - Validation Accuracy: 0.6502000093460083\n",
      "Epoch 37, CIFAR-10 Batch 2:  Loss 0.01539219357073307 - Validation Accuracy: 0.645799994468689\n",
      "Epoch 37, CIFAR-10 Batch 3:  Loss 0.012865187600255013 - Validation Accuracy: 0.6484000086784363\n",
      "Epoch 37, CIFAR-10 Batch 4:  Loss 0.01531854085624218 - Validation Accuracy: 0.6381999850273132\n",
      "Epoch 37, CIFAR-10 Batch 5:  Loss 0.009707442484796047 - Validation Accuracy: 0.6514000296592712\n",
      "Epoch 38, CIFAR-10 Batch 1:  Loss 0.03742539882659912 - Validation Accuracy: 0.649399995803833\n",
      "Epoch 38, CIFAR-10 Batch 2:  Loss 0.016858141869306564 - Validation Accuracy: 0.6395999789237976\n",
      "Epoch 38, CIFAR-10 Batch 3:  Loss 0.014335641637444496 - Validation Accuracy: 0.6582000255584717\n",
      "Epoch 38, CIFAR-10 Batch 4:  Loss 0.017384452745318413 - Validation Accuracy: 0.6467999815940857\n",
      "Epoch 38, CIFAR-10 Batch 5:  Loss 0.012152710929512978 - Validation Accuracy: 0.657800018787384\n",
      "Epoch 39, CIFAR-10 Batch 1:  Loss 0.015519196167588234 - Validation Accuracy: 0.6669999957084656\n",
      "Epoch 39, CIFAR-10 Batch 2:  Loss 0.014382749795913696 - Validation Accuracy: 0.6485999822616577\n",
      "Epoch 39, CIFAR-10 Batch 3:  Loss 0.017002247273921967 - Validation Accuracy: 0.6570000052452087\n",
      "Epoch 39, CIFAR-10 Batch 4:  Loss 0.0179571695625782 - Validation Accuracy: 0.6575999855995178\n",
      "Epoch 39, CIFAR-10 Batch 5:  Loss 0.010039249435067177 - Validation Accuracy: 0.6516000032424927\n",
      "Epoch 40, CIFAR-10 Batch 1:  Loss 0.008970577269792557 - Validation Accuracy: 0.6661999821662903\n",
      "Epoch 40, CIFAR-10 Batch 2:  Loss 0.010827308520674706 - Validation Accuracy: 0.6442000269889832\n",
      "Epoch 40, CIFAR-10 Batch 3:  Loss 0.012165876105427742 - Validation Accuracy: 0.6696000099182129\n",
      "Epoch 40, CIFAR-10 Batch 4:  Loss 0.01498124934732914 - Validation Accuracy: 0.6406000256538391\n",
      "Epoch 40, CIFAR-10 Batch 5:  Loss 0.010944862850010395 - Validation Accuracy: 0.6632000207901001\n"
     ]
    }
   ],
   "source": [
    "\"\"\"\n",
    "DON'T MODIFY ANYTHING IN THIS CELL\n",
    "\"\"\"\n",
    "save_model_path = './image_classification'\n",
    "\n",
    "print('Training...')\n",
    "with tf.Session() as sess:\n",
    "    # Initializing the variables\n",
    "    sess.run(tf.global_variables_initializer())\n",
    "    \n",
    "    # Training cycle\n",
    "    for epoch in range(epochs):\n",
    "        # Loop over all batches\n",
    "        n_batches = 5\n",
    "        for batch_i in range(1, n_batches + 1):\n",
    "            for batch_features, batch_labels in helper.load_preprocess_training_batch(batch_i, batch_size):\n",
    "                train_neural_network(sess, optimizer, keep_probability, batch_features, batch_labels)\n",
    "            print('Epoch {:>2}, CIFAR-10 Batch {}:  '.format(epoch + 1, batch_i), end='')\n",
    "            print_stats(sess, batch_features, batch_labels, cost, accuracy)\n",
    "            \n",
    "    # Save Model\n",
    "    saver = tf.train.Saver()\n",
    "    save_path = saver.save(sess, save_model_path)"
   ]
  },
  {
   "cell_type": "markdown",
   "metadata": {},
   "source": [
    "# Checkpoint\n",
    "The model has been saved to disk.\n",
    "## Test Model\n",
    "Test your model against the test dataset.  This will be your final accuracy. You should have an accuracy greater than 50%. If you don't, keep tweaking the model architecture and parameters."
   ]
  },
  {
   "cell_type": "code",
   "execution_count": 89,
   "metadata": {},
   "outputs": [
    {
     "name": "stdout",
     "output_type": "stream",
     "text": [
      "INFO:tensorflow:Restoring parameters from ./image_classification\n",
      "Testing Accuracy: 0.6502175632911392\n",
      "\n"
     ]
    },
    {
     "data": {
      "image/png": "[encoded data removed]",
      "text/plain": [
       "<matplotlib.figure.Figure at 0x119584198>"
      ]
     },
     "metadata": {
      "image/png": {
       "height": 319,
       "width": 355
      }
     },
     "output_type": "display_data"
    }
   ],
   "source": [
    "\"\"\"\n",
    "DON'T MODIFY ANYTHING IN THIS CELL\n",
    "\"\"\"\n",
    "%matplotlib inline\n",
    "%config InlineBackend.figure_format = 'retina'\n",
    "\n",
    "import tensorflow as tf\n",
    "import pickle\n",
    "import helper\n",
    "import random\n",
    "\n",
    "# Set batch size if not already set\n",
    "try:\n",
    "    if batch_size:\n",
    "        pass\n",
    "except NameError:\n",
    "    batch_size = 64\n",
    "\n",
    "save_model_path = './image_classification'\n",
    "n_samples = 4\n",
    "top_n_predictions = 3\n",
    "\n",
    "def test_model():\n",
    "    \"\"\"\n",
    "    Test the saved model against the test dataset\n",
    "    \"\"\"\n",
    "\n",
    "    test_features, test_labels = pickle.load(open('preprocess_test.p', mode='rb'))\n",
    "    loaded_graph = tf.Graph()\n",
    "\n",
    "    with tf.Session(graph=loaded_graph) as sess:\n",
    "        # Load model\n",
    "        loader = tf.train.import_meta_graph(save_model_path + '.meta')\n",
    "        loader.restore(sess, save_model_path)\n",
    "\n",
    "        # Get Tensors from loaded model\n",
    "        loaded_x = loaded_graph.get_tensor_by_name('x:0')\n",
    "        loaded_y = loaded_graph.get_tensor_by_name('y:0')\n",
    "        loaded_keep_prob = loaded_graph.get_tensor_by_name('keep_prob:0')\n",
    "        loaded_logits = loaded_graph.get_tensor_by_name('logits:0')\n",
    "        loaded_acc = loaded_graph.get_tensor_by_name('accuracy:0')\n",
    "        \n",
    "        # Get accuracy in batches for memory limitations\n",
    "        test_batch_acc_total = 0\n",
    "        test_batch_count = 0\n",
    "        \n",
    "        for test_feature_batch, test_label_batch in helper.batch_features_labels(test_features, test_labels, batch_size):\n",
    "            test_batch_acc_total += sess.run(\n",
    "                loaded_acc,\n",
    "                feed_dict={loaded_x: test_feature_batch, loaded_y: test_label_batch, loaded_keep_prob: 1.0})\n",
    "            test_batch_count += 1\n",
    "\n",
    "        print('Testing Accuracy: {}\\n'.format(test_batch_acc_total/test_batch_count))\n",
    "\n",
    "        # Print Random Samples\n",
    "        random_test_features, random_test_labels = tuple(zip(*random.sample(list(zip(test_features, test_labels)), n_samples)))\n",
    "        random_test_predictions = sess.run(\n",
    "            tf.nn.top_k(tf.nn.softmax(loaded_logits), top_n_predictions),\n",
    "            feed_dict={loaded_x: random_test_features, loaded_y: random_test_labels, loaded_keep_prob: 1.0})\n",
    "        helper.display_image_predictions(random_test_features, random_test_labels, random_test_predictions)\n",
    "\n",
    "\n",
    "test_model()"
   ]
  },
  {
   "cell_type": "markdown",
   "metadata": {},
   "source": [
    "## Why 50-80% Accuracy?\n",
    "You might be wondering why you can't get an accuracy any higher. First things first, 50% isn't bad for a simple CNN.  Pure guessing would get you 10% accuracy. However, you might notice people are getting scores [well above 80%](http://rodrigob.github.io/are_we_there_yet/build/classification_datasets_results.html#43494641522d3130).  That's because we haven't taught you all there is to know about neural networks. We still need to cover a few more techniques.\n",
    "## Submitting This Project\n",
    "When submitting this project, make sure to run all the cells before saving the notebook.  Save the notebook file as \"dlnd_image_classification.ipynb\" and save it as a HTML file under \"File\" -> \"Download as\".  Include the \"helper.py\" and \"problem_unittests.py\" files in your submission."
   ]
  }
 ],
 "metadata": {
  "kernelspec": {
   "display_name": "Python 3",
   "language": "python",
   "name": "python3"
  },
  "language_info": {
   "codemirror_mode": {
    "name": "ipython",
    "version": 3
   },
   "file_extension": ".py",
   "mimetype": "text/x-python",
   "name": "python",
   "nbconvert_exporter": "python",
   "pygments_lexer": "ipython3",
   "version": "3.5.3"
  }
 },
 "nbformat": 4,
 "nbformat_minor": 1
}
